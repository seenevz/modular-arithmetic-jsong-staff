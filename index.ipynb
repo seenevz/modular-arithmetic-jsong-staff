{
 "cells": [
  {
   "cell_type": "markdown",
   "metadata": {},
   "source": [
    "# Modular Arithmetic\n",
    "\n",
    "***Note***:\n",
    "This does not have any test driven exercises. There is no Run Test button and the icon next to the title above has a book instead of a lab. There _are_ code cells below for you to practice concepts, but occassionally lessons won't have tests. On with the show...\n",
    "\n",
    "\n",
    "### Modular Arithmetic Basics\n",
    "\n",
    "If you don't remember Modular Arithmetic, it's this function in Python\n",
    "\n",
    "```python\n",
    "39 % 12\n",
    "```\n",
    "\n",
    "The result is 3 because that is the remainder after division (39 / 12 == 3 + 3/12).\n",
    "\n",
    "Some people like to call it \"wrap-around\" math. If it helps, think of modular arithmetic like a clock:\n",
    "\n",
    "![clock](http://latex.artofproblemsolving.com/f/4/d/f4daa2601de14fddf3d8441e16cc322a25e85354.png)\n",
    "\n",
    "Think of taking the modulo as asking the question \"what hour will it be 39 hours from now?\"\n",
    "\n",
    "If you're still confused, please take a look at [this](https://www.khanacademy.org/computing/computer-science/cryptography/modarithmetic/a/what-is-modular-arithmetic) article."
   ]
  },
  {
   "cell_type": "code",
   "execution_count": null,
   "metadata": {},
   "outputs": [],
   "source": [
    "print(39 % 12)"
   ]
  },
  {
   "cell_type": "markdown",
   "metadata": {},
   "source": [
    "### Try it\n",
    "\n",
    "Find the modulo 19 of these numbers:\n",
    "\n",
    "* 99\n",
    "* \\\\(456 \\cdot 444\\\\)\n",
    "* \\\\(9^{77}\\\\)\n",
    "\n",
    "(note python uses ** to do exponentiation)"
   ]
  },
  {
   "cell_type": "code",
   "execution_count": 2,
   "metadata": {},
   "outputs": [],
   "source": [
    "prime = 19\n",
    "# 99\n",
    "# 456*444\n",
    "# 9**77"
   ]
  }
 ],
 "metadata": {
  "kernelspec": {
   "display_name": "Python 3",
   "language": "python",
   "name": "python3"
  },
  "language_info": {
   "codemirror_mode": {
    "name": "ipython",
    "version": 3
   },
   "file_extension": ".py",
   "mimetype": "text/x-python",
   "name": "python",
   "nbconvert_exporter": "python",
   "pygments_lexer": "ipython3",
   "version": "3.6.6"
  }
 },
 "nbformat": 4,
 "nbformat_minor": 2
}
